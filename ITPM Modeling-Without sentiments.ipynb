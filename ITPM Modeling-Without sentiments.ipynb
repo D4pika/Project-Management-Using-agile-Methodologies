{
 "cells": [
  {
   "cell_type": "markdown",
   "metadata": {},
   "source": [
    "<b>Rough Code - Ignore"
   ]
  },
  {
   "cell_type": "code",
   "execution_count": 7,
   "metadata": {},
   "outputs": [],
   "source": [
    "# Install the following pip packages in the current Jupyter kernel which are required while running the code.\n",
    "import os\n",
    "# os.system('pip install re')\n",
    "# os.system('pip install json')\n",
    "# os.system('pip install time')\n",
    "\n",
    "# os.system('pip install numpy')\n",
    "# os.system('pip install string')\n",
    "\n",
    "\n",
    "from sklearn.feature_extraction.text import TfidfVectorizer\n",
    "from sklearn.metrics import accuracy_score\n",
    "from sklearn.naive_bayes import GaussianNB\n",
    "from sklearn.neighbors import KNeighborsClassifier\n",
    "from sklearn.tree import DecisionTreeClassifier\n",
    "#from sklearn.grid_search import GridSearchCV\n",
    "from sklearn.model_selection import train_test_split\n",
    "from sklearn.feature_selection import SelectFromModel\n",
    "import numpy as np\n",
    "from scipy import sparse\n",
    "import pandas as pd\n",
    "import string\n",
    "import os\n"
   ]
  },
  {
   "cell_type": "code",
   "execution_count": 80,
   "metadata": {},
   "outputs": [
    {
     "data": {
      "text/plain": [
       "0"
      ]
     },
     "execution_count": 80,
     "metadata": {},
     "output_type": "execute_result"
    }
   ],
   "source": [
    "from os import system\n",
    "import os\n",
    "\n",
    "system(\"pip install Squarify\")\n",
    "os.system('pip install pandas')\n",
    "os.system('pip install csv')\n",
    "os.system('pip install sklearn')\n",
    "os.system('pip install nltk')"
   ]
  },
  {
   "cell_type": "code",
   "execution_count": 150,
   "metadata": {},
   "outputs": [],
   "source": [
    "import os\n",
    "os.chdir('C:\\\\Users\\\\dee jay\\\\Downloads\\\\')\n",
    "data = pd.read_csv('listings.csv')"
   ]
  },
  {
   "cell_type": "markdown",
   "metadata": {},
   "source": [
    "### Merging Sentiment Score of Reviews"
   ]
  },
  {
   "cell_type": "code",
   "execution_count": 160,
   "metadata": {},
   "outputs": [
    {
     "data": {
      "text/html": [
       "<div>\n",
       "<style scoped>\n",
       "    .dataframe tbody tr th:only-of-type {\n",
       "        vertical-align: middle;\n",
       "    }\n",
       "\n",
       "    .dataframe tbody tr th {\n",
       "        vertical-align: top;\n",
       "    }\n",
       "\n",
       "    .dataframe thead th {\n",
       "        text-align: right;\n",
       "    }\n",
       "</style>\n",
       "<table border=\"1\" class=\"dataframe\">\n",
       "  <thead>\n",
       "    <tr style=\"text-align: right;\">\n",
       "      <th></th>\n",
       "      <th>id</th>\n",
       "      <th>host_id</th>\n",
       "      <th>latitude</th>\n",
       "      <th>longitude</th>\n",
       "      <th>price</th>\n",
       "      <th>minimum_nights</th>\n",
       "      <th>number_of_reviews</th>\n",
       "      <th>reviews_per_month</th>\n",
       "      <th>calculated_host_listings_count</th>\n",
       "      <th>availability_365</th>\n",
       "      <th>count</th>\n",
       "      <th>mean</th>\n",
       "      <th>std</th>\n",
       "      <th>min</th>\n",
       "      <th>25%</th>\n",
       "      <th>50%</th>\n",
       "      <th>75%</th>\n",
       "      <th>max</th>\n",
       "      <th>list_id</th>\n",
       "    </tr>\n",
       "  </thead>\n",
       "  <tbody>\n",
       "    <tr>\n",
       "      <th>0</th>\n",
       "      <td>2318</td>\n",
       "      <td>2536</td>\n",
       "      <td>47.610819</td>\n",
       "      <td>-122.290816</td>\n",
       "      <td>296</td>\n",
       "      <td>7</td>\n",
       "      <td>21</td>\n",
       "      <td>0.17</td>\n",
       "      <td>1</td>\n",
       "      <td>343</td>\n",
       "      <td>21.0</td>\n",
       "      <td>0.924886</td>\n",
       "      <td>0.119358</td>\n",
       "      <td>0.4404</td>\n",
       "      <td>0.92400</td>\n",
       "      <td>0.96320</td>\n",
       "      <td>0.981600</td>\n",
       "      <td>0.9975</td>\n",
       "      <td>2318</td>\n",
       "    </tr>\n",
       "    <tr>\n",
       "      <th>1</th>\n",
       "      <td>4291</td>\n",
       "      <td>35749</td>\n",
       "      <td>47.687801</td>\n",
       "      <td>-122.313427</td>\n",
       "      <td>82</td>\n",
       "      <td>2</td>\n",
       "      <td>63</td>\n",
       "      <td>0.92</td>\n",
       "      <td>5</td>\n",
       "      <td>365</td>\n",
       "      <td>63.0</td>\n",
       "      <td>0.731565</td>\n",
       "      <td>0.436866</td>\n",
       "      <td>-0.8149</td>\n",
       "      <td>0.82200</td>\n",
       "      <td>0.91330</td>\n",
       "      <td>0.963400</td>\n",
       "      <td>0.9888</td>\n",
       "      <td>4291</td>\n",
       "    </tr>\n",
       "    <tr>\n",
       "      <th>2</th>\n",
       "      <td>5682</td>\n",
       "      <td>8993</td>\n",
       "      <td>47.523980</td>\n",
       "      <td>-122.359891</td>\n",
       "      <td>48</td>\n",
       "      <td>3</td>\n",
       "      <td>462</td>\n",
       "      <td>4.27</td>\n",
       "      <td>1</td>\n",
       "      <td>0</td>\n",
       "      <td>462.0</td>\n",
       "      <td>0.859691</td>\n",
       "      <td>0.207153</td>\n",
       "      <td>-0.8255</td>\n",
       "      <td>0.84835</td>\n",
       "      <td>0.93540</td>\n",
       "      <td>0.968775</td>\n",
       "      <td>0.9974</td>\n",
       "      <td>5682</td>\n",
       "    </tr>\n",
       "    <tr>\n",
       "      <th>3</th>\n",
       "      <td>6606</td>\n",
       "      <td>14942</td>\n",
       "      <td>47.654109</td>\n",
       "      <td>-122.337605</td>\n",
       "      <td>90</td>\n",
       "      <td>2</td>\n",
       "      <td>134</td>\n",
       "      <td>1.15</td>\n",
       "      <td>3</td>\n",
       "      <td>364</td>\n",
       "      <td>134.0</td>\n",
       "      <td>0.852816</td>\n",
       "      <td>0.227260</td>\n",
       "      <td>-0.5994</td>\n",
       "      <td>0.84490</td>\n",
       "      <td>0.92995</td>\n",
       "      <td>0.963625</td>\n",
       "      <td>0.9972</td>\n",
       "      <td>6606</td>\n",
       "    </tr>\n",
       "    <tr>\n",
       "      <th>4</th>\n",
       "      <td>9419</td>\n",
       "      <td>30559</td>\n",
       "      <td>47.550620</td>\n",
       "      <td>-122.320135</td>\n",
       "      <td>65</td>\n",
       "      <td>2</td>\n",
       "      <td>131</td>\n",
       "      <td>1.26</td>\n",
       "      <td>7</td>\n",
       "      <td>344</td>\n",
       "      <td>131.0</td>\n",
       "      <td>0.900527</td>\n",
       "      <td>0.153658</td>\n",
       "      <td>0.0000</td>\n",
       "      <td>0.90410</td>\n",
       "      <td>0.95790</td>\n",
       "      <td>0.983500</td>\n",
       "      <td>0.9992</td>\n",
       "      <td>9419</td>\n",
       "    </tr>\n",
       "  </tbody>\n",
       "</table>\n",
       "</div>"
      ],
      "text/plain": [
       "     id  host_id   latitude   longitude  price  minimum_nights  \\\n",
       "0  2318     2536  47.610819 -122.290816    296               7   \n",
       "1  4291    35749  47.687801 -122.313427     82               2   \n",
       "2  5682     8993  47.523980 -122.359891     48               3   \n",
       "3  6606    14942  47.654109 -122.337605     90               2   \n",
       "4  9419    30559  47.550620 -122.320135     65               2   \n",
       "\n",
       "   number_of_reviews  reviews_per_month  calculated_host_listings_count  \\\n",
       "0                 21               0.17                               1   \n",
       "1                 63               0.92                               5   \n",
       "2                462               4.27                               1   \n",
       "3                134               1.15                               3   \n",
       "4                131               1.26                               7   \n",
       "\n",
       "   availability_365  count      mean       std     min      25%      50%  \\\n",
       "0               343   21.0  0.924886  0.119358  0.4404  0.92400  0.96320   \n",
       "1               365   63.0  0.731565  0.436866 -0.8149  0.82200  0.91330   \n",
       "2                 0  462.0  0.859691  0.207153 -0.8255  0.84835  0.93540   \n",
       "3               364  134.0  0.852816  0.227260 -0.5994  0.84490  0.92995   \n",
       "4               344  131.0  0.900527  0.153658  0.0000  0.90410  0.95790   \n",
       "\n",
       "        75%     max  list_id  \n",
       "0  0.981600  0.9975     2318  \n",
       "1  0.963400  0.9888     4291  \n",
       "2  0.968775  0.9974     5682  \n",
       "3  0.963625  0.9972     6606  \n",
       "4  0.983500  0.9992     9419  "
      ]
     },
     "execution_count": 160,
     "metadata": {},
     "output_type": "execute_result"
    }
   ],
   "source": [
    "### Merging Sentiment Score of Reviews\n",
    "sentiment_score= pd.read_csv(\"sentiment_Values_reviews_Seattle.csv\")\n",
    "\n",
    "sentiment_score=sentiment_score[[\"listing_id\",\"compound\"]]\n",
    "data.drop_duplicates(['id'], keep='first', inplace=True)\n",
    "data=data.groupby(['id'], as_index=False).median()\n",
    "sentiment_score=sentiment_score.groupby(\"listing_id\").describe()['compound']\n",
    "sentiment_score['list_id']=sentiment_score.index\n",
    "merged_data= data.merge(sentiment_score, left_on=\"id\", right_on=\"list_id\", how=\"inner\")\n",
    "merged_data.head()"
   ]
  },
  {
   "cell_type": "code",
   "execution_count": 168,
   "metadata": {},
   "outputs": [
    {
     "data": {
      "text/plain": [
       "Index(['id', 'host_id', 'latitude', 'longitude', 'price', 'minimum_nights',\n",
       "       'number_of_reviews', 'reviews_per_month',\n",
       "       'calculated_host_listings_count', 'availability_365', 'count', 'mean',\n",
       "       'std', 'min', '25%', '50%', '75%', 'max', 'list_id'],\n",
       "      dtype='object')"
      ]
     },
     "execution_count": 168,
     "metadata": {},
     "output_type": "execute_result"
    }
   ],
   "source": [
    "merged_data.columns"
   ]
  },
  {
   "cell_type": "code",
   "execution_count": 169,
   "metadata": {},
   "outputs": [
    {
     "name": "stdout",
     "output_type": "stream",
     "text": [
      "<class 'pandas.core.frame.DataFrame'>\n",
      "Int64Index: 7505 entries, 0 to 7504\n",
      "Data columns (total 19 columns):\n",
      "id                                7505 non-null int64\n",
      "host_id                           7505 non-null int64\n",
      "latitude                          7505 non-null float64\n",
      "longitude                         7505 non-null float64\n",
      "price                             7505 non-null int64\n",
      "minimum_nights                    7505 non-null int64\n",
      "number_of_reviews                 7505 non-null int64\n",
      "reviews_per_month                 7505 non-null float64\n",
      "calculated_host_listings_count    7505 non-null int64\n",
      "availability_365                  7505 non-null int64\n",
      "count                             7505 non-null float64\n",
      "mean                              7505 non-null float64\n",
      "std                               6990 non-null float64\n",
      "min                               7505 non-null float64\n",
      "25%                               7505 non-null float64\n",
      "50%                               7505 non-null float64\n",
      "75%                               7505 non-null float64\n",
      "max                               7505 non-null float64\n",
      "list_id                           7505 non-null int64\n",
      "dtypes: float64(11), int64(8)\n",
      "memory usage: 1.1 MB\n"
     ]
    }
   ],
   "source": [
    "merged_data.info() "
   ]
  },
  {
   "cell_type": "code",
   "execution_count": 171,
   "metadata": {},
   "outputs": [
    {
     "data": {
      "text/html": [
       "<div>\n",
       "<style scoped>\n",
       "    .dataframe tbody tr th:only-of-type {\n",
       "        vertical-align: middle;\n",
       "    }\n",
       "\n",
       "    .dataframe tbody tr th {\n",
       "        vertical-align: top;\n",
       "    }\n",
       "\n",
       "    .dataframe thead th {\n",
       "        text-align: right;\n",
       "    }\n",
       "</style>\n",
       "<table border=\"1\" class=\"dataframe\">\n",
       "  <thead>\n",
       "    <tr style=\"text-align: right;\">\n",
       "      <th></th>\n",
       "      <th>id</th>\n",
       "      <th>host_id</th>\n",
       "      <th>latitude</th>\n",
       "      <th>longitude</th>\n",
       "      <th>price</th>\n",
       "      <th>minimum_nights</th>\n",
       "      <th>number_of_reviews</th>\n",
       "      <th>reviews_per_month</th>\n",
       "      <th>calculated_host_listings_count</th>\n",
       "      <th>availability_365</th>\n",
       "      <th>count</th>\n",
       "      <th>mean</th>\n",
       "      <th>std</th>\n",
       "      <th>min</th>\n",
       "      <th>25%</th>\n",
       "      <th>50%</th>\n",
       "      <th>75%</th>\n",
       "      <th>max</th>\n",
       "      <th>list_id</th>\n",
       "    </tr>\n",
       "  </thead>\n",
       "  <tbody>\n",
       "    <tr>\n",
       "      <th>count</th>\n",
       "      <td>7.505000e+03</td>\n",
       "      <td>7.505000e+03</td>\n",
       "      <td>7505.000000</td>\n",
       "      <td>7505.000000</td>\n",
       "      <td>7505.000000</td>\n",
       "      <td>7505.000000</td>\n",
       "      <td>7505.000000</td>\n",
       "      <td>7505.000000</td>\n",
       "      <td>7505.000000</td>\n",
       "      <td>7505.000000</td>\n",
       "      <td>7505.000000</td>\n",
       "      <td>7505.000000</td>\n",
       "      <td>6990.000000</td>\n",
       "      <td>7505.000000</td>\n",
       "      <td>7505.000000</td>\n",
       "      <td>7505.000000</td>\n",
       "      <td>7505.000000</td>\n",
       "      <td>7505.000000</td>\n",
       "      <td>7.505000e+03</td>\n",
       "    </tr>\n",
       "    <tr>\n",
       "      <th>mean</th>\n",
       "      <td>1.682952e+07</td>\n",
       "      <td>4.780301e+07</td>\n",
       "      <td>47.626376</td>\n",
       "      <td>-122.333787</td>\n",
       "      <td>152.534977</td>\n",
       "      <td>3.145903</td>\n",
       "      <td>50.551765</td>\n",
       "      <td>2.246384</td>\n",
       "      <td>18.313924</td>\n",
       "      <td>133.182412</td>\n",
       "      <td>50.534977</td>\n",
       "      <td>0.102864</td>\n",
       "      <td>0.028251</td>\n",
       "      <td>-0.019105</td>\n",
       "      <td>0.101452</td>\n",
       "      <td>0.112203</td>\n",
       "      <td>0.116457</td>\n",
       "      <td>0.119612</td>\n",
       "      <td>1.682952e+07</td>\n",
       "    </tr>\n",
       "    <tr>\n",
       "      <th>std</th>\n",
       "      <td>8.560392e+06</td>\n",
       "      <td>5.584967e+07</td>\n",
       "      <td>0.046197</td>\n",
       "      <td>0.032112</td>\n",
       "      <td>150.992623</td>\n",
       "      <td>11.489040</td>\n",
       "      <td>67.485707</td>\n",
       "      <td>2.166196</td>\n",
       "      <td>53.414440</td>\n",
       "      <td>125.457283</td>\n",
       "      <td>67.466334</td>\n",
       "      <td>0.279100</td>\n",
       "      <td>0.083986</td>\n",
       "      <td>0.210415</td>\n",
       "      <td>0.277295</td>\n",
       "      <td>0.303534</td>\n",
       "      <td>0.314411</td>\n",
       "      <td>0.322785</td>\n",
       "      <td>8.560392e+06</td>\n",
       "    </tr>\n",
       "    <tr>\n",
       "      <th>min</th>\n",
       "      <td>2.318000e+03</td>\n",
       "      <td>2.000000e+01</td>\n",
       "      <td>47.496037</td>\n",
       "      <td>-122.419637</td>\n",
       "      <td>0.000000</td>\n",
       "      <td>1.000000</td>\n",
       "      <td>1.000000</td>\n",
       "      <td>0.010000</td>\n",
       "      <td>1.000000</td>\n",
       "      <td>0.000000</td>\n",
       "      <td>1.000000</td>\n",
       "      <td>0.000000</td>\n",
       "      <td>0.000000</td>\n",
       "      <td>-0.994100</td>\n",
       "      <td>0.000000</td>\n",
       "      <td>0.000000</td>\n",
       "      <td>0.000000</td>\n",
       "      <td>0.000000</td>\n",
       "      <td>2.318000e+03</td>\n",
       "    </tr>\n",
       "    <tr>\n",
       "      <th>25%</th>\n",
       "      <td>9.823172e+06</td>\n",
       "      <td>7.155362e+06</td>\n",
       "      <td>47.605391</td>\n",
       "      <td>-122.354906</td>\n",
       "      <td>79.000000</td>\n",
       "      <td>1.000000</td>\n",
       "      <td>7.000000</td>\n",
       "      <td>0.510000</td>\n",
       "      <td>1.000000</td>\n",
       "      <td>16.000000</td>\n",
       "      <td>7.000000</td>\n",
       "      <td>0.000000</td>\n",
       "      <td>0.000000</td>\n",
       "      <td>0.000000</td>\n",
       "      <td>0.000000</td>\n",
       "      <td>0.000000</td>\n",
       "      <td>0.000000</td>\n",
       "      <td>0.000000</td>\n",
       "      <td>9.823172e+06</td>\n",
       "    </tr>\n",
       "    <tr>\n",
       "      <th>50%</th>\n",
       "      <td>1.827232e+07</td>\n",
       "      <td>2.520766e+07</td>\n",
       "      <td>47.622135</td>\n",
       "      <td>-122.331482</td>\n",
       "      <td>110.000000</td>\n",
       "      <td>2.000000</td>\n",
       "      <td>24.000000</td>\n",
       "      <td>1.540000</td>\n",
       "      <td>1.000000</td>\n",
       "      <td>89.000000</td>\n",
       "      <td>24.000000</td>\n",
       "      <td>0.000000</td>\n",
       "      <td>0.000000</td>\n",
       "      <td>0.000000</td>\n",
       "      <td>0.000000</td>\n",
       "      <td>0.000000</td>\n",
       "      <td>0.000000</td>\n",
       "      <td>0.000000</td>\n",
       "      <td>1.827232e+07</td>\n",
       "    </tr>\n",
       "    <tr>\n",
       "      <th>75%</th>\n",
       "      <td>2.370221e+07</td>\n",
       "      <td>6.885075e+07</td>\n",
       "      <td>47.661541</td>\n",
       "      <td>-122.311506</td>\n",
       "      <td>175.000000</td>\n",
       "      <td>2.000000</td>\n",
       "      <td>68.000000</td>\n",
       "      <td>3.430000</td>\n",
       "      <td>4.000000</td>\n",
       "      <td>240.000000</td>\n",
       "      <td>68.000000</td>\n",
       "      <td>0.000000</td>\n",
       "      <td>0.000000</td>\n",
       "      <td>0.000000</td>\n",
       "      <td>0.000000</td>\n",
       "      <td>0.000000</td>\n",
       "      <td>0.000000</td>\n",
       "      <td>0.000000</td>\n",
       "      <td>2.370221e+07</td>\n",
       "    </tr>\n",
       "    <tr>\n",
       "      <th>max</th>\n",
       "      <td>3.188036e+07</td>\n",
       "      <td>2.381447e+08</td>\n",
       "      <td>47.733955</td>\n",
       "      <td>-122.241349</td>\n",
       "      <td>3999.000000</td>\n",
       "      <td>400.000000</td>\n",
       "      <td>698.000000</td>\n",
       "      <td>14.470000</td>\n",
       "      <td>295.000000</td>\n",
       "      <td>365.000000</td>\n",
       "      <td>698.000000</td>\n",
       "      <td>0.994100</td>\n",
       "      <td>0.766155</td>\n",
       "      <td>0.994100</td>\n",
       "      <td>0.994100</td>\n",
       "      <td>0.994100</td>\n",
       "      <td>0.994100</td>\n",
       "      <td>0.999700</td>\n",
       "      <td>3.188036e+07</td>\n",
       "    </tr>\n",
       "  </tbody>\n",
       "</table>\n",
       "</div>"
      ],
      "text/plain": [
       "                 id       host_id     latitude    longitude        price  \\\n",
       "count  7.505000e+03  7.505000e+03  7505.000000  7505.000000  7505.000000   \n",
       "mean   1.682952e+07  4.780301e+07    47.626376  -122.333787   152.534977   \n",
       "std    8.560392e+06  5.584967e+07     0.046197     0.032112   150.992623   \n",
       "min    2.318000e+03  2.000000e+01    47.496037  -122.419637     0.000000   \n",
       "25%    9.823172e+06  7.155362e+06    47.605391  -122.354906    79.000000   \n",
       "50%    1.827232e+07  2.520766e+07    47.622135  -122.331482   110.000000   \n",
       "75%    2.370221e+07  6.885075e+07    47.661541  -122.311506   175.000000   \n",
       "max    3.188036e+07  2.381447e+08    47.733955  -122.241349  3999.000000   \n",
       "\n",
       "       minimum_nights  number_of_reviews  reviews_per_month  \\\n",
       "count     7505.000000        7505.000000        7505.000000   \n",
       "mean         3.145903          50.551765           2.246384   \n",
       "std         11.489040          67.485707           2.166196   \n",
       "min          1.000000           1.000000           0.010000   \n",
       "25%          1.000000           7.000000           0.510000   \n",
       "50%          2.000000          24.000000           1.540000   \n",
       "75%          2.000000          68.000000           3.430000   \n",
       "max        400.000000         698.000000          14.470000   \n",
       "\n",
       "       calculated_host_listings_count  availability_365        count  \\\n",
       "count                     7505.000000       7505.000000  7505.000000   \n",
       "mean                        18.313924        133.182412    50.534977   \n",
       "std                         53.414440        125.457283    67.466334   \n",
       "min                          1.000000          0.000000     1.000000   \n",
       "25%                          1.000000         16.000000     7.000000   \n",
       "50%                          1.000000         89.000000    24.000000   \n",
       "75%                          4.000000        240.000000    68.000000   \n",
       "max                        295.000000        365.000000   698.000000   \n",
       "\n",
       "              mean          std          min          25%          50%  \\\n",
       "count  7505.000000  6990.000000  7505.000000  7505.000000  7505.000000   \n",
       "mean      0.102864     0.028251    -0.019105     0.101452     0.112203   \n",
       "std       0.279100     0.083986     0.210415     0.277295     0.303534   \n",
       "min       0.000000     0.000000    -0.994100     0.000000     0.000000   \n",
       "25%       0.000000     0.000000     0.000000     0.000000     0.000000   \n",
       "50%       0.000000     0.000000     0.000000     0.000000     0.000000   \n",
       "75%       0.000000     0.000000     0.000000     0.000000     0.000000   \n",
       "max       0.994100     0.766155     0.994100     0.994100     0.994100   \n",
       "\n",
       "               75%          max       list_id  \n",
       "count  7505.000000  7505.000000  7.505000e+03  \n",
       "mean      0.116457     0.119612  1.682952e+07  \n",
       "std       0.314411     0.322785  8.560392e+06  \n",
       "min       0.000000     0.000000  2.318000e+03  \n",
       "25%       0.000000     0.000000  9.823172e+06  \n",
       "50%       0.000000     0.000000  1.827232e+07  \n",
       "75%       0.000000     0.000000  2.370221e+07  \n",
       "max       0.994100     0.999700  3.188036e+07  "
      ]
     },
     "execution_count": 171,
     "metadata": {},
     "output_type": "execute_result"
    }
   ],
   "source": [
    "merged_data.describe()"
   ]
  },
  {
   "cell_type": "code",
   "execution_count": 172,
   "metadata": {},
   "outputs": [],
   "source": [
    "merged_data=merged_data[merged_data['price']<1000]"
   ]
  },
  {
   "cell_type": "code",
   "execution_count": 173,
   "metadata": {},
   "outputs": [],
   "source": [
    "import seaborn as sns\n",
    "# sns.boxplot(X['images'])\n",
    "import matplotlib.pyplot as plt\n",
    "# sns.JointGrid(X,X)"
   ]
  },
  {
   "cell_type": "code",
   "execution_count": null,
   "metadata": {},
   "outputs": [
    {
     "data": {
      "text/plain": [
       "<seaborn.axisgrid.PairGrid at 0x25c2855f7f0>"
      ]
     },
     "execution_count": 174,
     "metadata": {},
     "output_type": "execute_result"
    }
   ],
   "source": [
    "# library & dataset\n",
    "import seaborn as sns\n",
    "import matplotlib.pyplot as plt\n",
    "#df = sns.load_dataset('iris')\n",
    " \n",
    "# Density\n",
    "sns.pairplot(merged_data, diag_kind=\"kde\")\n",
    " \n",
    "# Histogram\n",
    "sns.pairplot(merged_data, diag_kind=\"hist\")\n",
    " \n",
    "# You can custom it as a density plot or histogram so see the related sections\n",
    "sns.pairplot(merged_data, diag_kind=\"kde\", diag_kws=dict(shade=True, bw=.05, vertical=False) )\n"
   ]
  },
  {
   "cell_type": "code",
   "execution_count": null,
   "metadata": {},
   "outputs": [],
   "source": [
    "# libraries\n",
    "import matplotlib.pyplot as plt\n",
    "import numpy as np\n",
    "import seaborn as sns\n",
    " \n",
    "# Data\n",
    "x = merged_data['price']\n",
    "y = merged_data['mean']\n",
    " \n",
    "# Create a color if the group is \"B\"\n",
    "my_color=np.where(y>=0, 'orange', 'skyblue')\n",
    " \n",
    "# The vertival plot is made using the hline function\n",
    "# I load the seaborn library only to benefit the nice looking feature\n",
    "import seaborn as sns\n",
    "plt.vlines(x=x, ymin=0, ymax=y, color=my_color, alpha=0.4)\n",
    "plt.scatter(x, y, color=my_color, s=1, alpha=1)\n",
    " \n",
    "# Add title and axis names\n",
    "plt.title(\"Evolution of the value of ...\", loc='left')\n",
    "plt.xlabel('Value of the variable')\n",
    "plt.ylabel('Group')\n",
    "PR"
   ]
  },
  {
   "cell_type": "code",
   "execution_count": null,
   "metadata": {},
   "outputs": [],
   "source": [
    "flatui = [\"#9b59b6\",\"#3498db\",\"#95a5a6\",\"#e74c3c\",\"#34495e\",\"#2ecc71\"]\n",
    "sns.set_palette(flatui) \n",
    "plt.figure(figsize=(13,6)) #figure size\n",
    "\n",
    "#It's another way to plot our data. using a variable that contains the plot parameters\n",
    "g1 = sns.violinplot(x='room_type', y='price', \n",
    "                   data=merged_data[(merged_data['room_type'].isin((merged_data['room_type'].value_counts()[:10].index.values))) &\n",
    "                                  merged_data['room_type'] > 0 ])\n",
    "g1.set_title('room_type distribution w.r.t. price', fontsize=20) # title and fontsize\n",
    "g1.set_xticklabels(g1.get_xticklabels(),rotation=45) # It's the way to rotate the xticks when we use variable to our graphs\n",
    "g1.set_xlabel('room_type', fontsize=16) # Xlabel\n",
    "g1.set_ylabel('Price ', fontsize=16) #Ylabel\n",
    "\n",
    "plt.show()"
   ]
  },
  {
   "cell_type": "code",
   "execution_count": null,
   "metadata": {},
   "outputs": [],
   "source": []
  },
  {
   "cell_type": "code",
   "execution_count": null,
   "metadata": {},
   "outputs": [],
   "source": []
  },
  {
   "cell_type": "code",
   "execution_count": null,
   "metadata": {},
   "outputs": [],
   "source": []
  },
  {
   "cell_type": "markdown",
   "metadata": {},
   "source": [
    "### Missing Values "
   ]
  },
  {
   "cell_type": "code",
   "execution_count": null,
   "metadata": {},
   "outputs": [],
   "source": [
    "cat_col=['id', 'name', 'host_name', 'neighbourhood_group',\n",
    "       'neighbourhood', 'room_type',  'last_review'       ]\n",
    "num_col=[]\n",
    "for col in merged_data.columns:\n",
    "    if col not in cat_col:\n",
    "        num_col.append(col)"
   ]
  },
  {
   "cell_type": "code",
   "execution_count": null,
   "metadata": {},
   "outputs": [],
   "source": [
    "for col in cat_col:\n",
    "     merged_data[col].fillna(merged_data[col].mode()[0],inplace=True)"
   ]
  },
  {
   "cell_type": "code",
   "execution_count": null,
   "metadata": {},
   "outputs": [],
   "source": [
    "for col in num_col:\n",
    "     merged_data[col].fillna(merged_data[col].median(),inplace=True)"
   ]
  },
  {
   "cell_type": "markdown",
   "metadata": {},
   "source": [
    "### Outliers Removal"
   ]
  },
  {
   "cell_type": "code",
   "execution_count": null,
   "metadata": {},
   "outputs": [],
   "source": [
    "for col in num_col:\n",
    "      data[col].fillna(data[col].mode()[0], inplace=True)\n",
    "      data[col]=[float(i) for i in data[col]]\n",
    "      mean, std=np.mean(data[col]),np.std(data[col])\n",
    "      within=[mean-2*std,mean+2*std]\n",
    "      ndata=data[data[col].isin(within)]"
   ]
  },
  {
   "cell_type": "code",
   "execution_count": null,
   "metadata": {},
   "outputs": [],
   "source": [
    "from scipy import stats\n",
    "import numpy as np\n",
    "z=np.abs(stats.zscore(data['number_of_reviews']))\n",
    "print(z)\n",
    "b=np.where(z > 2.5)\n",
    "print(b)"
   ]
  },
  {
   "cell_type": "code",
   "execution_count": null,
   "metadata": {},
   "outputs": [],
   "source": [
    "Q1 = data['number_of_reviews'].quantile(0.25)\n",
    "Q3 = data['number_of_reviews'].quantile(0.75)\n",
    "IQR = Q3 - Q1\n",
    "data[(data['number_of_reviews'] < (Q1 - 1.5 * IQR)) | (data['number_of_reviews'] > (Q3 + 1.5 * IQR))].head(10)"
   ]
  },
  {
   "cell_type": "markdown",
   "metadata": {},
   "source": [
    "### Encoding Categorical variables"
   ]
  },
  {
   "cell_type": "code",
   "execution_count": null,
   "metadata": {},
   "outputs": [],
   "source": [
    "cat_col=['neighbourhood_group','neighbourhood', 'room_type'   ]\n",
    "# Label Encoding our target variable \n",
    "from sklearn.preprocessing import LabelEncoder,OneHotEncoder\n",
    "l=LabelEncoder() \n",
    "\n",
    "\n",
    " \n",
    " \n",
    "\n",
    " \n",
    "\n",
    "#One Hot Encoding of the Categorical features \n",
    "one_hot_neighbourhood_group=pd.get_dummies(data.neighbourhood_group) \n",
    "one_hot_neighbourhood=pd.get_dummies(data.neighbourhood) \n",
    "one_hot_room_type=pd.get_dummies(data.room_type) \n",
    "\n",
    "\n",
    "#removing categorical features \n",
    "data.drop(['neighbourhood_group','neighbourhood', 'room_type' ],axis=1,inplace=True) \n",
    "\n",
    " \n",
    "\n",
    "#Merging one hot encoded features with our dataset 'data' \n",
    "data=pd.concat([data,one_hot_neighbourhood_group,one_hot_neighbourhood,one_hot_room_type],axis=1) \n",
    "\n",
    "#removing dulpicate columns \n",
    "_, i = np.unique(data.columns, return_index=True) \n",
    "data=data.iloc[:, i] \n",
    "\n",
    "#Here our target variable is 'Income' with values as 1 or 0.  \n",
    "#Separating our data into features dataset x and our target dataset y \n"
   ]
  },
  {
   "cell_type": "markdown",
   "metadata": {},
   "source": [
    "### Addressing multi- colinearity"
   ]
  },
  {
   "cell_type": "code",
   "execution_count": 35,
   "metadata": {},
   "outputs": [],
   "source": [
    "# Create correlation matrix\n",
    "corr_matrix = data.corr().abs()\n",
    "\n",
    "# Select upper triangle of correlation matrix\n",
    "upper = corr_matrix.where(np.triu(np.ones(corr_matrix.shape), k=1).astype(np.bool))\n",
    "\n",
    "# Find index of feature columns with correlation greater than 0.85\n",
    "to_drop = [column for column in upper.columns if any(upper[column] > 0.85)]\n",
    "\n",
    "x=data.drop(to_drop,axis=1) "
   ]
  },
  {
   "cell_type": "markdown",
   "metadata": {},
   "source": [
    "### Data Partioning "
   ]
  },
  {
   "cell_type": "code",
   "execution_count": 38,
   "metadata": {},
   "outputs": [],
   "source": [
    "x=data.drop(['id', 'name', 'host_name','last_review','price'],axis=1) \n",
    "y=data.price \n",
    "\n",
    " \n",
    "\n",
    "#Imputing missing values in our target variable \n",
    "y.fillna(y.mode()[0],inplace=True) \n",
    "\n",
    "#Now splitting our dataset into test and train \n",
    "from sklearn.model_selection import train_test_split \n",
    "x_train,x_test,y_train,y_test=train_test_split(x,y,test_size=.3)"
   ]
  },
  {
   "cell_type": "markdown",
   "metadata": {},
   "source": [
    "## Modeling, Feature Selection, Evaluation"
   ]
  },
  {
   "cell_type": "markdown",
   "metadata": {},
   "source": [
    "### Linear Regression"
   ]
  },
  {
   "cell_type": "code",
   "execution_count": 56,
   "metadata": {},
   "outputs": [
    {
     "name": "stdout",
     "output_type": "stream",
     "text": [
      "Linear Regression Mean Absolute Error: 76.04733767037497\n",
      "Linear Regression Mean Squared Error: 14986.470179510563\n",
      "Linear Regression Root Mean Squared Error for train: 1.0419222737935618\n",
      "Linear Regression Root Mean Squared Error for test: 0.7780505235953886\n"
     ]
    }
   ],
   "source": [
    "#linear regression  ---------------\n",
    "from sklearn.linear_model import LinearRegression\n",
    "lm = LinearRegression()\n",
    "lm.fit(x_train,y_train)\n",
    "\n",
    "#making prediction \n",
    "y_ptrain = lm.predict(x_train)\n",
    "y_pred = lm.predict(x_test)\n",
    "\n",
    "\n",
    "  #linear regression metrics------\n",
    "from sklearn import metrics\n",
    "#print(lm.summary)\n",
    "print('Linear Regression Mean Absolute Error:', metrics.mean_absolute_error(y_test, y_pred))  \n",
    "print('Linear Regression Mean Squared Error:', metrics.mean_squared_error(y_test, y_pred))  \n",
    "print('Linear Regression Root Mean Squared Error for train:', np.sqrt(metrics.mean_squared_error(y_train, y_ptrain))/np.mean(y_train))\n",
    "print('Linear Regression Root Mean Squared Error for test:', np.sqrt(metrics.mean_squared_error(y_test, y_pred))/np.mean(y_train))"
   ]
  },
  {
   "cell_type": "markdown",
   "metadata": {},
   "source": [
    "### Random Forest"
   ]
  },
  {
   "cell_type": "code",
   "execution_count": 46,
   "metadata": {},
   "outputs": [
    {
     "name": "stdout",
     "output_type": "stream",
     "text": [
      "Random Forest Mean Absolute Error: 60.018183609141055\n",
      "Random Forest Mean Squared Error: 11967.754675925926\n",
      "Random Forest Mean Squared Error for train set: 0.39360055448575987\n",
      "Random Forest Mean Squared Error for test set: 0.6952875637289632\n"
     ]
    }
   ],
   "source": [
    "#random forest ---------------\n",
    "\n",
    "from sklearn.ensemble import RandomForestRegressor\n",
    "regressor = RandomForestRegressor(n_estimators=20, random_state=0)  \n",
    "regressor.fit(x_train, y_train) \n",
    "y_ptrain=regressor.predict(x_train) \n",
    "y_pred = regressor.predict(x_test)  \n",
    "\n",
    "#random forest metrics----------\n",
    "from sklearn import metrics\n",
    "print('Random Forest Mean Absolute Error:', metrics.mean_absolute_error(y_test, y_pred))  \n",
    "print('Random Forest Mean Squared Error:', metrics.mean_squared_error(y_test, y_pred)) \n",
    "print('Random Forest Mean Squared Error for train set:', np.sqrt(metrics.mean_squared_error(y_train, y_ptrain))/np.mean(y_train))\n",
    "print('Random Forest Mean Squared Error for test set:', np.sqrt(metrics.mean_squared_error(y_test, y_pred))/np.mean(y_train))"
   ]
  },
  {
   "cell_type": "markdown",
   "metadata": {},
   "source": [
    "### XGBoost Regressor"
   ]
  },
  {
   "cell_type": "code",
   "execution_count": 54,
   "metadata": {},
   "outputs": [
    {
     "name": "stderr",
     "output_type": "stream",
     "text": [
      "C:\\Users\\dee Jay\\Anaconda3\\lib\\site-packages\\xgboost\\core.py:587: FutureWarning: Series.base is deprecated and will be removed in a future version\n",
      "  if getattr(data, 'base', None) is not None and \\\n"
     ]
    },
    {
     "name": "stdout",
     "output_type": "stream",
     "text": [
      "XGBRegressor Mean Absolute Error: 64.36976985766063\n",
      "XGBRegressor Mean Squared Error: 12643.504161051509\n",
      "XGBRegressor Mean Squared Error for train set: 0.9741105669696526\n",
      "XGBRegressor Mean Squared Error for test set: 0.7146474531110173\n"
     ]
    }
   ],
   "source": [
    "from xgboost import XGBRegressor\n",
    "regressor = XGBRegressor(n_estimators=20, random_state=0)  \n",
    "regressor.fit(x_train, y_train) \n",
    "y_ptrain=regressor.predict(x_train) \n",
    "y_pred = regressor.predict(x_test)  \n",
    "\n",
    "#random forest metrics----------\n",
    "from sklearn import metrics\n",
    "print('XGBRegressor Mean Absolute Error:', metrics.mean_absolute_error(y_test, y_pred))  \n",
    "print('XGBRegressor Mean Squared Error:', metrics.mean_squared_error(y_test, y_pred)) \n",
    "print('XGBRegressor Mean Squared Error for train set:', np.sqrt(metrics.mean_squared_error(y_train, y_ptrain))/np.mean(y_train))\n",
    "print('XGBRegressor Mean Squared Error for test set:', np.sqrt(metrics.mean_squared_error(y_test, y_pred))/np.mean(y_train))"
   ]
  },
  {
   "cell_type": "markdown",
   "metadata": {},
   "source": [
    "### MLP Regressor"
   ]
  },
  {
   "cell_type": "code",
   "execution_count": 55,
   "metadata": {},
   "outputs": [
    {
     "name": "stdout",
     "output_type": "stream",
     "text": [
      "Neural Network Mean Absolute Error: 139.29171654381733\n",
      "Neural Network Mean Squared Error: 37588.85507443829\n",
      "Neural Network Root Mean Squared Error for train: 1.444718319606255\n",
      "Neural Network Root Mean Squared Error for test: 1.2322183479130202\n"
     ]
    }
   ],
   "source": [
    "#Neural Network ---------------\n",
    "from sklearn.neural_network import MLPRegressor\n",
    "MLP = MLPRegressor()\n",
    "MLP.fit(x_train,y_train)\n",
    "\n",
    "#making prediction \n",
    "y_ptrain = MLP.predict(x_train)\n",
    "y_pred = MLP.predict(x_test)\n",
    "\n",
    "\n",
    "  #Neural Network metrics------\n",
    "from sklearn import metrics\n",
    "\n",
    "print('Neural Network Mean Absolute Error:', metrics.mean_absolute_error(y_test, y_pred))  \n",
    "print('Neural Network Mean Squared Error:', metrics.mean_squared_error(y_test, y_pred))  \n",
    "print('Neural Network Root Mean Squared Error for train:', np.sqrt(metrics.mean_squared_error(y_train, y_ptrain))/np.mean(y_train))\n",
    "print('Neural Network Root Mean Squared Error for test:', np.sqrt(metrics.mean_squared_error(y_test, y_pred))/np.mean(y_train))"
   ]
  },
  {
   "cell_type": "markdown",
   "metadata": {},
   "source": [
    "### Feature Selection"
   ]
  },
  {
   "cell_type": "code",
   "execution_count": 49,
   "metadata": {},
   "outputs": [
    {
     "name": "stderr",
     "output_type": "stream",
     "text": [
      "C:\\Users\\dee Jay\\Anaconda3\\lib\\site-packages\\xgboost\\core.py:587: FutureWarning: Series.base is deprecated and will be removed in a future version\n",
      "  if getattr(data, 'base', None) is not None and \\\n"
     ]
    },
    {
     "data": {
      "image/png": "[encoded data removed]",
      "text/plain": [
       "<Figure size 432x288 with 1 Axes>"
      ]
     },
     "metadata": {
      "needs_background": "light"
     },
     "output_type": "display_data"
    }
   ],
   "source": [
    "from xgboost import XGBRegressor\n",
    "from xgboost import plot_importance\n",
    "from matplotlib import pyplot\n",
    "model = XGBRegressor()\n",
    "model.fit(x_train, y_train)\n",
    "# plot feature importance\n",
    "plot_importance(model)\n",
    "pyplot.show()\n"
   ]
  },
  {
   "cell_type": "code",
   "execution_count": 53,
   "metadata": {},
   "outputs": [
    {
     "name": "stderr",
     "output_type": "stream",
     "text": [
      "C:\\Users\\dee Jay\\Anaconda3\\lib\\site-packages\\xgboost\\core.py:587: FutureWarning: Series.base is deprecated and will be removed in a future version\n",
      "  if getattr(data, 'base', None) is not None and \\\n",
      "C:\\Users\\dee Jay\\Anaconda3\\lib\\site-packages\\xgboost\\core.py:587: FutureWarning: Series.base is deprecated and will be removed in a future version\n",
      "  if getattr(data, 'base', None) is not None and \\\n"
     ]
    },
    {
     "name": "stdout",
     "output_type": "stream",
     "text": [
      "XGBoost Mean Absolute Error: 63.98567827072925\n",
      "XGBoost Mean Squared Error: 12122.269947207662\n",
      "XGBoost Root Mean Squared Error for train set: 0.7446385376209097\n",
      "XGBoost Root Mean Squared Error for test set: 0.699761586032026\n"
     ]
    }
   ],
   "source": [
    "# select features using threshold\n",
    "thresh=0.02\n",
    "selection = SelectFromModel(model, threshold=thresh, prefit=True)\n",
    "select_X_train = selection.transform(x_train)\n",
    "# train model\n",
    "selection_model = XGBRegressor()\n",
    "selection_model.fit(select_X_train, y_train)\n",
    "# eval model\n",
    "select_X_test = selection.transform(x_test)\n",
    "y_pred = selection_model.predict(select_X_test)\n",
    "# select features using threshold\n",
    "selection = SelectFromModel(model, threshold=thresh, prefit=True)\n",
    "select_X_train = selection.transform(x_train)\n",
    "# train model\n",
    "selection_model = XGBRegressor()\n",
    "selection_model.fit(select_X_train, y_train)\n",
    "# eval model\n",
    "select_X_ptrain = selection.transform(x_train)\n",
    "y_ptrain = selection_model.predict(select_X_ptrain)\n",
    "select_X_test = selection.transform(x_test)\n",
    "y_pred = selection_model.predict(select_X_test)\n",
    "print('XGBoost Mean Absolute Error:', metrics.mean_absolute_error(y_test, y_pred))  \n",
    "print('XGBoost Mean Squared Error:', metrics.mean_squared_error(y_test, y_pred))  \n",
    "print('XGBoost Root Mean Squared Error for train set:', np.sqrt(metrics.mean_squared_error(y_train, y_ptrain))/np.mean(y_train))\n",
    "print('XGBoost Root Mean Squared Error for test set:', np.sqrt(metrics.mean_squared_error(y_test, y_pred))/np.mean(y_train))\n"
   ]
  }
 ],
 "metadata": {
  "kernelspec": {
   "display_name": "Python 3",
   "language": "python",
   "name": "python3"
  },
  "language_info": {
   "codemirror_mode": {
    "name": "ipython",
    "version": 3
   },
   "file_extension": ".py",
   "mimetype": "text/x-python",
   "name": "python",
   "nbconvert_exporter": "python",
   "pygments_lexer": "ipython3",
   "version": "3.6.8"
  },
  "widgets": {
   "state": {},
   "version": "1.1.2"
  }
 },
 "nbformat": 4,
 "nbformat_minor": 2
}
